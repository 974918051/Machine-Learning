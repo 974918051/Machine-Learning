{
 "cells": [
  {
   "cell_type": "code",
   "execution_count": 17,
   "metadata": {},
   "outputs": [],
   "source": [
    "import numpy as np\n",
    "import pandas as pd\n",
    "import csv\n",
    "import math\n",
    "import matplotlib.pyplot as plt"
   ]
  },
  {
   "cell_type": "code",
   "execution_count": 18,
   "metadata": {},
   "outputs": [],
   "source": [
    "np.random.seed(0)\n",
    "X_train_fpath = './data/X_train'\n",
    "Y_train_fpath = './data/Y_train'\n",
    "X_test_fpath = './data/X_test'\n",
    "output_fpath = './output_{}.csv'"
   ]
  },
  {
   "cell_type": "code",
   "execution_count": 19,
   "metadata": {},
   "outputs": [],
   "source": [
    "with open (X_train_fpath) as f:\n",
    "    next(f)\n",
    "    X_train = np.array([line.strip('\\n').split(',')[1:] for line in f], dtype=float)\n",
    "with open(Y_train_fpath) as f:\n",
    "    next(f)\n",
    "    Y_train = np.array([line.strip('\\n').split(',')[1] for line in f], dtype=float)\n",
    "with open(X_test_fpath) as f:\n",
    "    next(f)\n",
    "    X_test = np.array([line.strip('\\n').split(',')[1:] for line in f], dtype=float)\n",
    "# print(X_train)\n",
    "# print(Y_train)\n",
    "# print(X_test)"
   ]
  },
  {
   "cell_type": "code",
   "execution_count": 20,
   "metadata": {},
   "outputs": [],
   "source": [
    "def _normalize(X, train=True, specified_column=None, X_mean=None, X_std=None):\n",
    "    # This function normalizes specific columns of X.\n",
    "    # The mean and standard variance of training data will be reused when processing testing data.\n",
    "    #\n",
    "    # Arguments:\n",
    "    #     X: data to be processed\n",
    "    #     train: 'True' when processing training data, 'False' for testing data\n",
    "    #     specific_column: indexes of the columns that will be normalized. If 'None', all columns\n",
    "    #         will be normalized.\n",
    "    #     X_mean: mean value of training data, used when train = 'False'\n",
    "    #     X_std: standard deviation of training data, used when train = 'False'\n",
    "    # Outputs:\n",
    "    #     X: normalized data\n",
    "    #     X_mean: computed mean value of training data\n",
    "    #     X_std: computed standard deviation of training data\n",
    "    \n",
    "    if specified_column == None:\n",
    "        specified_column = np.arange(X.shape[1])\n",
    "    if train:\n",
    "        X_mean = np.mean(X[:, specified_column], 0).reshape(1, -1)\n",
    "        X_std = np.std(X[:, specified_column], 0).reshape(1, -1)\n",
    "    \n",
    "    X[:, specified_column] = (X[:, specified_column] - X_mean) / (X_std + 1e-8) # x* = (x - μ ) / σ normalized\n",
    "    \n",
    "    return X, X_mean, X_std"
   ]
  },
  {
   "cell_type": "code",
   "execution_count": 21,
   "metadata": {},
   "outputs": [],
   "source": [
    "def _train_dev_split(X, Y, dev_ratio = 0.25):\n",
    "    # This function splits data into training set and validation set.\n",
    "    train_size = int(len(X) * (1 - dev_ratio))\n",
    "    return X[:train_size], Y[:train_size], X[train_size:], Y[train_size:]"
   ]
  },
  {
   "cell_type": "code",
   "execution_count": 22,
   "metadata": {},
   "outputs": [
    {
     "name": "stdout",
     "output_type": "stream",
     "text": [
      "48830\n",
      "5426\n",
      "27622\n",
      "510\n"
     ]
    }
   ],
   "source": [
    "# Normalize training and testing data\n",
    "X_train, X_mean, X_std = _normalize(X_train, train=True)\n",
    "X_test, _, _ = _normalize(X_test, train=False, specified_column= None, X_mean=X_mean, X_std=X_std)\n",
    "# print(X_train)\n",
    "\n",
    "# Split data into training set and verification set.\n",
    "dev_ratio = 0.1\n",
    "X_train, Y_train, X_val, Y_val = _train_dev_split(X_train, Y_train, dev_ratio=dev_ratio)\n",
    "\n",
    "# Check the dimension of data.\n",
    "train_size = X_train.shape[0]\n",
    "val_size = X_val.shape[0]\n",
    "test_size = X_test.shape[0]\n",
    "data_dim = X_test.shape[1]\n",
    "print(train_size)\n",
    "print(val_size)\n",
    "print(test_size)\n",
    "print(data_dim)"
   ]
  },
  {
   "cell_type": "code",
   "execution_count": 23,
   "metadata": {},
   "outputs": [],
   "source": [
    "# Function will be used in follow.\n",
    "## Shuffles two equall_length list/array, X and Y, together.\n",
    "def _shuffle(X, Y):\n",
    "    randomize = np.arange(len(X))\n",
    "    np.random.shuffle(randomize)\n",
    "    return (X[randomize], Y[randomize])\n",
    "\n",
    "## define sigmoid function.\n",
    "def _sigmoid(z):\n",
    "    # Sigmoid function can be used to calculate probability.\n",
    "    # To avoid overflow, minimum/maxmun output value is set.\n",
    "    return np.clip(1 / (1.0 + np.exp(-z)), 1e-8, 1 - (1e-8))\n",
    "\n",
    "## Logistic regression function, input is X, parameter is w, bias is b. (X and w are both array, and b is a scalar)\n",
    "## Actually,  this is the same thing as adding a new cloumn of all 1s to X as the phase multipliers for b.\n",
    "def _f(X, w, b):\n",
    "    ### Arguements:\n",
    "    ###    X: input data, shape = [batch_size, data_dimension]\n",
    "    ###    w: weight vector, shape = [data_dimension, ]\n",
    "    ###    b:bias, scalar\n",
    "    ### Output:\n",
    "    ###    predicted probability of each row of X being positively labeled, shape = [batch_size, ]\n",
    "    return _sigmoid(np.matmul(X, w) + b)\n",
    "\n",
    "## Translate sigmoid value into 0 or 1 (int type). If value is 0.5, the result is 0.\n",
    "def _predict(X, w, b):\n",
    "    ### This function returns a truth value prediction for eache row of X\n",
    "    ### by rounding the result of logistic regression function.\n",
    "    return np.round(_f(X, w, b)).astype(np.int)\n",
    "\n",
    "## Return the accuracy of model.\n",
    "def _accuracy(Y_pred, Y_label):\n",
    "    acc = 1 - np.mean(np.abs(Y_pred - Y_label))\n",
    "    return acc\n",
    "\n",
    "## Cross entropy\n",
    "def _cross_entropy_loss(y_pred, Y_label):\n",
    "    # Arguments:\n",
    "    #    y_pred: probabilitstic predictions, float vector. 即还未放入predict函数中的f函数的结果\n",
    "    #    Y_label: ground truth labels, bool vector. 真正的结果，只有0和1两个元素\n",
    "    # Output:\n",
    "    #    cross entropy, scalar\n",
    "    cross_entropy = -np.dot(Y_label, np.log(y_pred)) - np.dot((1 - Y_label), np.log(1 - y_pred))\n",
    "    return cross_entropy\n",
    "\n",
    "## Gradient\n",
    "def _gradient(X, Y_label, w, b):\n",
    "    # This function coputes the gradient of cross entropy loss with respect to weight w and bias b.\n",
    "    y_pred = _f(X, w, b) #预测值\n",
    "#     print(Y_label)\n",
    "    pred_error = Y_label - y_pred #误差：真实值-预测值\n",
    "    w_grad = -np.sum(pred_error * X.T, 1) #X.T就是X的转置，axis取值为1代表将每一行的元素相加。\n",
    "    b_grad = -np.sum(pred_error)\n",
    "    return w_grad, b_grad"
   ]
  },
  {
   "cell_type": "code",
   "execution_count": 24,
   "metadata": {},
   "outputs": [
    {
     "name": "stdout",
     "output_type": "stream",
     "text": [
      "48830\n",
      "48830\n",
      "48830\n",
      "48830\n",
      "48830\n",
      "48830\n",
      "48830\n",
      "48830\n",
      "48830\n",
      "48830\n",
      "Training loss:0.271355435246406\n",
      "Val_loss:0.2896359675026286\n",
      "Train_acc:0.8836166291214418\n",
      "Val_acc:0.8733873940287504\n"
     ]
    }
   ],
   "source": [
    "# Initialization for weights and bias.\n",
    "w = np.zeros((data_dim,))\n",
    "b = np.zeros((1,))\n",
    "\n",
    "# Parameter for training\n",
    "max_iter = 10\n",
    "batch_size = 8\n",
    "l_r = 0.2\n",
    "\n",
    "# Keep the loss and accuracy at every iteration for ploting\n",
    "train_loss = []\n",
    "val_loss = []\n",
    "train_acc = []\n",
    "val_acc = []\n",
    "\n",
    "# Calcuate the number of parameter updates\n",
    "step = 1\n",
    "\n",
    "# Iterative training\n",
    "for epoch in range(max_iter):\n",
    "    # Random shuffle at the begging of each epoch\n",
    "    X_train, Y_train = _shuffle(X_train, Y_train)\n",
    "    \n",
    "    # Mini-batch training\n",
    "    for idx in range(int(np.floor(train_size / batch_size))):\n",
    "        X = X_train[idx * batch_size:(idx + 1) * batch_size]\n",
    "        Y = Y_train[idx * batch_size:(idx + 1) * batch_size]\n",
    "#         print(Y_train)\n",
    "        \n",
    "        # Compute the gradient\n",
    "        w_grad, b_grad = _gradient(X, Y, w, b)\n",
    "        \n",
    "        # Gradient descent update\n",
    "        w = w - l_r / np.sqrt(step) * w_grad\n",
    "        b = b - l_r / np.sqrt(step) * b_grad\n",
    "        \n",
    "        step = step + 1\n",
    "        \n",
    "    # Compute loss and accuracy of training set and validation set.\n",
    "    y_train_pred = _f(X_train, w, b)\n",
    "    Y_train_pred = np.round(y_train_pred)\n",
    "    train_acc.append(_accuracy(Y_train_pred, Y_train))\n",
    "    train_loss.append(_cross_entropy_loss(y_train_pred, Y_train) / train_size)\n",
    "    print(train_size)\n",
    "    \n",
    "    y_val_pred = _f(X_val, w, b)\n",
    "    Y_val_pred = np.round(y_val_pred)\n",
    "    val_acc.append(_accuracy(Y_val_pred, Y_val))\n",
    "    val_loss.append(_cross_entropy_loss(y_val_pred, Y_val) / val_size)\n",
    "    \n",
    "print('Training loss:{}'.format(train_loss[-1]))\n",
    "print('Val_loss:{}'.format(val_loss[-1]))\n",
    "print('Train_acc:{}'.format(train_acc[-1]))\n",
    "print('Val_acc:{}'.format(val_acc[-1]))\n",
    "\n",
    "np.save('weight_hw2.npy', w)"
   ]
  },
  {
   "cell_type": "code",
   "execution_count": 25,
   "metadata": {},
   "outputs": [
    {
     "data": {
      "image/png": "[encoded data removed]",
      "text/plain": [
       "<Figure size 432x288 with 1 Axes>"
      ]
     },
     "metadata": {
      "needs_background": "light"
     },
     "output_type": "display_data"
    },
    {
     "data": {
      "image/png": "[encoded data removed]",
      "text/plain": [
       "<Figure size 432x288 with 1 Axes>"
      ]
     },
     "metadata": {
      "needs_background": "light"
     },
     "output_type": "display_data"
    }
   ],
   "source": [
    "# Loss curve\n",
    "plt.plot(train_loss)\n",
    "plt.plot(val_loss)\n",
    "plt.title('Loss')\n",
    "plt.legend(['train', 'val'])\n",
    "plt.savefig('loss.png')\n",
    "plt.show()\n",
    "\n",
    "# Accuracy curve\n",
    "plt.plot(train_acc)\n",
    "plt.plot(val_acc)\n",
    "plt.title('Accuracy')\n",
    "plt.legend(['train', 'val'])\n",
    "plt.savefig('acc.png')\n",
    "plt.show()"
   ]
  },
  {
   "cell_type": "code",
   "execution_count": 26,
   "metadata": {},
   "outputs": [
    {
     "name": "stdout",
     "output_type": "stream",
     "text": [
      " Not in universe -4.031960278019252\n",
      " Spouse of householder -1.6254039587051394\n",
      " Other Rel <18 never married RP of subfamily -1.41957597757654\n",
      " Child 18+ ever marr Not in a subfamily -1.2958572076664725\n",
      " Unemployed full-time 1.1712558285885908\n",
      " Other Rel <18 ever marr RP of subfamily -1.1677918072962366\n",
      " Italy -1.0934581438006181\n",
      " Vietnam -1.0630365633146415\n",
      "num persons worked for employer 0.9389922773566495\n",
      " 1 0.8226614922117184\n"
     ]
    }
   ],
   "source": [
    "# Predict testdata\n",
    "w = np.load('weight_hw2.npy')\n",
    "\n",
    "# Predict testing labels\n",
    "predictions = _predict(X_test, w, b)\n",
    "with open(output_fpath.format('logigstic'), 'w') as f:\n",
    "    f.write('id,label\\n')\n",
    "    for i, label in enumerate(predictions):\n",
    "        f.write('{},{}\\n'.format(i, label))\n",
    "        \n",
    "# Print out the most significant weights\n",
    "ind = np.argsort(np.abs(w))[::-1]\n",
    "with open(X_test_fpath) as f:\n",
    "    content = f.readline().strip('\\n').split(',')\n",
    "features = np.array(content)\n",
    "for i in ind[0:10]:\n",
    "    print(features[i], w[i])"
   ]
  },
  {
   "cell_type": "code",
   "execution_count": 33,
   "metadata": {},
   "outputs": [
    {
     "name": "stdout",
     "output_type": "stream",
     "text": [
      "Training accuracy: 0.8747051017398997\n",
      " Agriculture 7.5625\n",
      " 41 -7.53125\n",
      " Retail trade 6.90625\n",
      " Forestry and fisheries 6.09375\n",
      " 29 -5.96875\n",
      " 35 5.26953125\n",
      " 34 -5.1865234375\n",
      " Sales -5.1484375\n",
      " Construction -5.13671875\n",
      " 37 -4.826171875\n"
     ]
    }
   ],
   "source": [
    "# Generative model的二元分类\n",
    "\n",
    "\"\"\"\n",
    "数据预处理与正规化\n",
    "\"\"\"\n",
    "# Parse csv files to numpy array\n",
    "with open(X_train_fpath) as f:\n",
    "    next(f)\n",
    "    X_train = np.array([line.strip('\\n').split(',')[1:] for line in f], dtype=float)\n",
    "with open(Y_train_fpath) as f:\n",
    "    next(f)\n",
    "    Y_train = np.array([line.strip('\\n').split(',')[1] for line in f], dtype=float)\n",
    "with open(X_test_fpath) as f:\n",
    "    next(f)\n",
    "    X_test = np.array([line.strip('\\n').split(',')[1:] for line in f], dtype=float)\n",
    "\n",
    "# Normalize training and testing data\n",
    "X_train, X_mean, X_std = _normalize(X_train, train=True)\n",
    "X_test, _, _ = _normalize(X_test, train=False, specified_column=None, X_mean=X_mean, X_std=X_std)\n",
    "\n",
    "\"\"\"\n",
    "我们需要分别计算两个类别内的数据平均值𝝁1，𝝁2与协方差矩阵𝜮1，𝜮2。Classfication ppt15页\n",
    "\"\"\"\n",
    "\n",
    "# Compute in-class mean\n",
    "# 分别将数据中的两个类别的数据分开，这样才可以计算两个类别的数据平均值𝝁1，𝝁2\n",
    "X_train_0 = np.array([x for x, y in zip(X_train, Y_train) if y == 0])  # 训练集中属于类别0的数据\n",
    "X_train_1 = np.array([x for x, y in zip(X_train, Y_train) if y == 1])  # 训练集中属于类别1的数据\n",
    "\n",
    "mean_0 = np.mean(X_train_0, axis=0)  # 𝝁1\n",
    "mean_1 = np.mean(X_train_1, axis=0)  # 𝝁2\n",
    "\n",
    "# Compute in-class covariance\n",
    "# 计算协方差矩阵𝜮1，𝜮2\n",
    "# 先用0初始化数组\n",
    "cov_0 = np.zeros((data_dim, data_dim))  # 𝜮1\n",
    "cov_1 = np.zeros((data_dim, data_dim))  # 𝜮2\n",
    "\n",
    "# 公式可看https://blog.csdn.net/mr_hhh/article/details/78490576\n",
    "for x in X_train_0:\n",
    "    cov_0 += np.dot(np.transpose([x - mean_0]), [x - mean_0]) / X_train_0.shape[0]\n",
    "for x in X_train_1:\n",
    "    cov_1 += np.dot(np.transpose([x - mean_1]), [x - mean_1]) / X_train_1.shape[0]\n",
    "\n",
    "# print(cov_0)\n",
    "# print(cov_1)\n",
    "\n",
    "# Shared covariance is taken as a weighted average of individual in-class covariance.\n",
    "# 为了减少参数的个数，采用同样的𝜮使其在两个类别上通用。  Classfication ppt22页，公式是23页\n",
    "cov = (cov_0 * X_train_0.shape[0] + cov_1 * X_train_1.shape[0]) / (X_train_0.shape[0] + X_train_1.shape[0])\n",
    "# print(cov)\n",
    "\n",
    "# 有了数据平均值和协方差矩阵，可以直接将唯一的权重矩阵与偏差向量计算出来 Classfication ppt33页\n",
    "# Compute inverse of covariance matrix.\n",
    "# Since covariance matrix may be nearly singular, np.linalg.inv() may give a large numerical error.\n",
    "# Via SVD decomposition, one can get matrix inverse efficiently and accurately.\n",
    "# 计算出协方差矩阵的逆，用inv表示\n",
    "u, s, v = np.linalg.svd(cov, full_matrices=False)\n",
    "inv = np.matmul(v.T * 1 / s, u.T)\n",
    "#\n",
    "# # Directly compute weights and bias  公式在33页\n",
    "w = np.dot(inv, mean_0 - mean_1)\n",
    "b = (-0.5) * np.dot(mean_0, np.dot(inv, mean_0)) + 0.5 * np.dot(mean_1, np.dot(inv, mean_1)) + np.log(float(X_train_0.shape[0]) / X_train_1.shape[0])\n",
    "\n",
    "np.save('weight_hw2_generative.npy', w)  # 将参数保存下来\n",
    "\n",
    "\n",
    "w = np.load('weight_hw2_generative.npy')  # 加载参数\n",
    "# Compute accuracy on training set\n",
    "Y_train_pred = 1 - _predict(X_train, w, b)\n",
    "print('Training accuracy: {}'.format(_accuracy(Y_train_pred, Y_train))) #0.8735\n",
    "\n",
    "# Predict testing labels\n",
    "predictions = 1 - _predict(X_test, w, b)\n",
    "with open(output_fpath.format('generative'), 'w') as f:\n",
    "    f.write('id,label\\n')\n",
    "    for i, label in enumerate(predictions):\n",
    "        f.write('{},{}\\n'.format(i, label))\n",
    "\n",
    "# Print out the most significant weights\n",
    "ind = np.argsort(np.abs(w))[::-1]\n",
    "with open(X_test_fpath) as f:\n",
    "    content = f.readline().strip('\\n').split(',')\n",
    "features = np.array(content)\n",
    "for i in ind[0:10]:\n",
    "    print(features[i], w[i])"
   ]
  },
  {
   "cell_type": "code",
   "execution_count": null,
   "metadata": {},
   "outputs": [],
   "source": []
  }
 ],
 "metadata": {
  "kernelspec": {
   "display_name": "Python 3",
   "language": "python",
   "name": "python3"
  },
  "language_info": {
   "codemirror_mode": {
    "name": "ipython",
    "version": 3
   },
   "file_extension": ".py",
   "mimetype": "text/x-python",
   "name": "python",
   "nbconvert_exporter": "python",
   "pygments_lexer": "ipython3",
   "version": "3.7.6"
  }
 },
 "nbformat": 4,
 "nbformat_minor": 4
}
